{
  "nbformat": 4,
  "nbformat_minor": 0,
  "metadata": {
    "colab": {
      "name": "Untitled0.ipynb",
      "version": "0.3.2",
      "provenance": [],
      "include_colab_link": true
    }
  },
  "cells": [
    {
      "cell_type": "markdown",
      "metadata": {
        "id": "view-in-github",
        "colab_type": "text"
      },
      "source": [
        "[View in Colaboratory](https://colab.research.google.com/github/mch000534/algo/blob/master/Untitled0.ipynb)"
      ]
    },
    {
      "metadata": {
        "id": "j-ndrVzXF7uS",
        "colab_type": "code",
        "colab": {
          "base_uri": "https://localhost:8080/",
          "height": 34
        },
        "outputId": "9c520925-9336-4dff-98b5-52882abae056"
      },
      "cell_type": "code",
      "source": [
        "import requests\n",
        "import pandas\n",
        "import io\n",
        "import datetime\n",
        "\n",
        "# Step 1. Get ticker list online\n",
        "url = 'http://www.nasdaq.com/screening/companies-by-industry.aspx?exchange=NASDAQ&render=download'\n",
        "dataString = requests.get(url).content\n",
        "tickersRawData = pandas.read_csv(io.StringIO(dataString.decode('utf-8')))\n",
        "tickers = tickersRawData['Symbol'].tolist()\n",
        "\n",
        "# Step 2. Save the ticker list to a local file\n",
        "dateToday = datetime.datetime.today().strftime('%Y%m%d')\n",
        "file = './'+dateToday+'.csv'\n",
        "tickersRawData.to_csv(file, index=False)\n",
        "print ('Tickers saved.')"
      ],
      "execution_count": 1,
      "outputs": [
        {
          "output_type": "stream",
          "text": [
            "Tickers saved.\n"
          ],
          "name": "stdout"
        }
      ]
    },
    {
      "metadata": {
        "id": "YAS07579YygO",
        "colab_type": "code",
        "colab": {}
      },
      "cell_type": "code",
      "source": [
        ""
      ],
      "execution_count": 0,
      "outputs": []
    }
  ]
}